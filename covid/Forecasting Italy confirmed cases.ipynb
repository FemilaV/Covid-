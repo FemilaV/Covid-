{
 "cells": [
  {
   "cell_type": "markdown",
   "metadata": {},
   "source": [
    "# Time series forecasting for confirmed cases in Italy using LSTM model"
   ]
  },
  {
   "cell_type": "code",
   "execution_count": 126,
   "metadata": {
    "collapsed": true
   },
   "outputs": [
    {
     "name": "stderr",
     "output_type": "stream",
     "text": [
      "ERROR: Could not install packages due to an EnvironmentError: [WinError 5] Access is denied: 'C:\\\\Users\\\\Admin\\\\anaconda3\\\\Lib\\\\site-packages\\\\~cipy\\\\cluster\\\\_hierarchy.cp38-win_amd64.pyd'\n",
      "Consider using the `--user` option or check the permissions.\n",
      "\n"
     ]
    },
    {
     "name": "stdout",
     "output_type": "stream",
     "text": [
      "Collecting tensorflow==2.2.0\n",
      "  Downloading tensorflow-2.2.0-cp38-cp38-win_amd64.whl (459.2 MB)\n",
      "Requirement already satisfied: google-pasta>=0.1.8 in c:\\users\\admin\\anaconda3\\lib\\site-packages (from tensorflow==2.2.0) (0.2.0)\n",
      "Collecting tensorflow-estimator<2.3.0,>=2.2.0\n",
      "  Downloading tensorflow_estimator-2.2.0-py2.py3-none-any.whl (454 kB)\n",
      "Requirement already satisfied: wrapt>=1.11.1 in c:\\users\\admin\\anaconda3\\lib\\site-packages (from tensorflow==2.2.0) (1.12.1)\n",
      "Requirement already satisfied: astunparse==1.6.3 in c:\\users\\admin\\anaconda3\\lib\\site-packages (from tensorflow==2.2.0) (1.6.3)\n",
      "Requirement already satisfied: wheel>=0.26; python_version >= \"3\" in c:\\users\\admin\\anaconda3\\lib\\site-packages (from tensorflow==2.2.0) (0.35.1)\n",
      "Requirement already satisfied: six>=1.12.0 in c:\\users\\admin\\anaconda3\\lib\\site-packages (from tensorflow==2.2.0) (1.15.0)\n",
      "Requirement already satisfied: h5py<2.11.0,>=2.10.0 in c:\\users\\admin\\anaconda3\\lib\\site-packages (from tensorflow==2.2.0) (2.10.0)\n",
      "Requirement already satisfied: opt-einsum>=2.3.2 in c:\\users\\admin\\anaconda3\\lib\\site-packages (from tensorflow==2.2.0) (3.3.0)\n",
      "Requirement already satisfied: termcolor>=1.1.0 in c:\\users\\admin\\anaconda3\\lib\\site-packages (from tensorflow==2.2.0) (1.1.0)\n",
      "Requirement already satisfied: numpy<2.0,>=1.16.0 in c:\\users\\admin\\anaconda3\\lib\\site-packages (from tensorflow==2.2.0) (1.19.2)\n",
      "Requirement already satisfied: keras-preprocessing>=1.1.0 in c:\\users\\admin\\anaconda3\\lib\\site-packages (from tensorflow==2.2.0) (1.1.2)\n",
      "Requirement already satisfied: absl-py>=0.7.0 in c:\\users\\admin\\anaconda3\\lib\\site-packages (from tensorflow==2.2.0) (0.12.0)\n",
      "Requirement already satisfied: grpcio>=1.8.6 in c:\\users\\admin\\anaconda3\\lib\\site-packages (from tensorflow==2.2.0) (1.32.0)\n",
      "Requirement already satisfied: protobuf>=3.8.0 in c:\\users\\admin\\anaconda3\\lib\\site-packages (from tensorflow==2.2.0) (3.15.8)\n",
      "Collecting scipy==1.4.1; python_version >= \"3\"\n",
      "  Downloading scipy-1.4.1-cp38-cp38-win_amd64.whl (31.0 MB)\n",
      "Collecting tensorboard<2.3.0,>=2.2.0\n",
      "  Downloading tensorboard-2.2.2-py3-none-any.whl (3.0 MB)\n",
      "Requirement already satisfied: gast==0.3.3 in c:\\users\\admin\\anaconda3\\lib\\site-packages (from tensorflow==2.2.0) (0.3.3)\n",
      "Requirement already satisfied: setuptools>=41.0.0 in c:\\users\\admin\\anaconda3\\lib\\site-packages (from tensorboard<2.3.0,>=2.2.0->tensorflow==2.2.0) (50.3.1.post20201107)\n",
      "Requirement already satisfied: google-auth<2,>=1.6.3 in c:\\users\\admin\\anaconda3\\lib\\site-packages (from tensorboard<2.3.0,>=2.2.0->tensorflow==2.2.0) (1.30.0)\n",
      "Requirement already satisfied: werkzeug>=0.11.15 in c:\\users\\admin\\anaconda3\\lib\\site-packages (from tensorboard<2.3.0,>=2.2.0->tensorflow==2.2.0) (1.0.1)\n",
      "Requirement already satisfied: requests<3,>=2.21.0 in c:\\users\\admin\\anaconda3\\lib\\site-packages (from tensorboard<2.3.0,>=2.2.0->tensorflow==2.2.0) (2.24.0)\n",
      "Requirement already satisfied: markdown>=2.6.8 in c:\\users\\admin\\anaconda3\\lib\\site-packages (from tensorboard<2.3.0,>=2.2.0->tensorflow==2.2.0) (3.3.4)\n",
      "Requirement already satisfied: tensorboard-plugin-wit>=1.6.0 in c:\\users\\admin\\anaconda3\\lib\\site-packages (from tensorboard<2.3.0,>=2.2.0->tensorflow==2.2.0) (1.8.0)\n",
      "Requirement already satisfied: google-auth-oauthlib<0.5,>=0.4.1 in c:\\users\\admin\\anaconda3\\lib\\site-packages (from tensorboard<2.3.0,>=2.2.0->tensorflow==2.2.0) (0.4.4)\n",
      "Requirement already satisfied: rsa<5,>=3.1.4; python_version >= \"3.6\" in c:\\users\\admin\\anaconda3\\lib\\site-packages (from google-auth<2,>=1.6.3->tensorboard<2.3.0,>=2.2.0->tensorflow==2.2.0) (4.7.2)\n",
      "Requirement already satisfied: pyasn1-modules>=0.2.1 in c:\\users\\admin\\anaconda3\\lib\\site-packages (from google-auth<2,>=1.6.3->tensorboard<2.3.0,>=2.2.0->tensorflow==2.2.0) (0.2.8)\n",
      "Requirement already satisfied: cachetools<5.0,>=2.0.0 in c:\\users\\admin\\anaconda3\\lib\\site-packages (from google-auth<2,>=1.6.3->tensorboard<2.3.0,>=2.2.0->tensorflow==2.2.0) (4.2.2)\n",
      "Requirement already satisfied: idna<3,>=2.5 in c:\\users\\admin\\anaconda3\\lib\\site-packages (from requests<3,>=2.21.0->tensorboard<2.3.0,>=2.2.0->tensorflow==2.2.0) (2.10)\n",
      "Requirement already satisfied: certifi>=2017.4.17 in c:\\users\\admin\\anaconda3\\lib\\site-packages (from requests<3,>=2.21.0->tensorboard<2.3.0,>=2.2.0->tensorflow==2.2.0) (2020.6.20)\n",
      "Requirement already satisfied: urllib3!=1.25.0,!=1.25.1,<1.26,>=1.21.1 in c:\\users\\admin\\anaconda3\\lib\\site-packages (from requests<3,>=2.21.0->tensorboard<2.3.0,>=2.2.0->tensorflow==2.2.0) (1.25.11)\n",
      "Requirement already satisfied: chardet<4,>=3.0.2 in c:\\users\\admin\\anaconda3\\lib\\site-packages (from requests<3,>=2.21.0->tensorboard<2.3.0,>=2.2.0->tensorflow==2.2.0) (3.0.4)\n",
      "Requirement already satisfied: requests-oauthlib>=0.7.0 in c:\\users\\admin\\anaconda3\\lib\\site-packages (from google-auth-oauthlib<0.5,>=0.4.1->tensorboard<2.3.0,>=2.2.0->tensorflow==2.2.0) (1.3.0)\n",
      "Requirement already satisfied: pyasn1>=0.1.3 in c:\\users\\admin\\anaconda3\\lib\\site-packages (from rsa<5,>=3.1.4; python_version >= \"3.6\"->google-auth<2,>=1.6.3->tensorboard<2.3.0,>=2.2.0->tensorflow==2.2.0) (0.4.8)\n",
      "Requirement already satisfied: oauthlib>=3.0.0 in c:\\users\\admin\\anaconda3\\lib\\site-packages (from requests-oauthlib>=0.7.0->google-auth-oauthlib<0.5,>=0.4.1->tensorboard<2.3.0,>=2.2.0->tensorflow==2.2.0) (3.1.0)\n",
      "Installing collected packages: tensorflow-estimator, scipy, tensorboard, tensorflow\n",
      "  Attempting uninstall: tensorflow-estimator\n",
      "    Found existing installation: tensorflow-estimator 2.4.0\n",
      "    Uninstalling tensorflow-estimator-2.4.0:\n",
      "      Successfully uninstalled tensorflow-estimator-2.4.0\n",
      "  Attempting uninstall: scipy\n",
      "    Found existing installation: scipy 1.5.2\n",
      "    Uninstalling scipy-1.5.2:\n",
      "      Successfully uninstalled scipy-1.5.2\n"
     ]
    }
   ],
   "source": [
    "!pip install tensorflow==2.2.0"
   ]
  },
  {
   "cell_type": "code",
   "execution_count": 128,
   "metadata": {
    "collapsed": true
   },
   "outputs": [
    {
     "name": "stdout",
     "output_type": "stream",
     "text": [
      "Requirement already satisfied: keras==2.4.3 in c:\\users\\admin\\anaconda3\\lib\\site-packages (2.4.3)\n",
      "Requirement already satisfied: h5py in c:\\users\\admin\\anaconda3\\lib\\site-packages (from keras==2.4.3) (2.10.0)\n",
      "Requirement already satisfied: scipy>=0.14 in c:\\users\\admin\\anaconda3\\lib\\site-packages (from keras==2.4.3) (1.4.1)\n",
      "Requirement already satisfied: pyyaml in c:\\users\\admin\\anaconda3\\lib\\site-packages (from keras==2.4.3) (5.3.1)\n",
      "Requirement already satisfied: numpy>=1.9.1 in c:\\users\\admin\\anaconda3\\lib\\site-packages (from keras==2.4.3) (1.19.2)\n",
      "Requirement already satisfied: six in c:\\users\\admin\\anaconda3\\lib\\site-packages (from h5py->keras==2.4.3) (1.15.0)\n"
     ]
    }
   ],
   "source": [
    "!pip install keras==2.4.3"
   ]
  },
  {
   "cell_type": "markdown",
   "metadata": {},
   "source": [
    "# importing and reading the 3 datasets"
   ]
  },
  {
   "cell_type": "code",
   "execution_count": 1,
   "metadata": {},
   "outputs": [],
   "source": [
    "import pandas as pd\n",
    "import numpy as np\n",
    "import matplotlib.pyplot as plt\n",
    "import datetime as dt\n",
    "from datetime import datetime\n",
    "from keras.callbacks import EarlyStopping,ReduceLROnPlateau,ModelCheckpoint,TensorBoard\n",
    "from sklearn.model_selection import train_test_split\n",
    "from keras.preprocessing.sequence import TimeseriesGenerator\n",
    "from sklearn.preprocessing import StandardScaler\n",
    "import tensorflow as tf\n",
    "\n",
    "%matplotlib inline"
   ]
  },
  {
   "cell_type": "code",
   "execution_count": 2,
   "metadata": {},
   "outputs": [],
   "source": [
    "df_con = pd.read_csv('time_series_covid19_confirmed_global.csv',index_col='Country/Region')\n",
    "df_d = pd.read_csv('time_series_covid19_deaths_global.csv',index_col='Country/Region')\n",
    "df_r = pd.read_csv('time_series_covid19_recovered_global.csv',index_col='Country/Region')"
   ]
  },
  {
   "cell_type": "markdown",
   "metadata": {},
   "source": [
    "## dropping the irrelevant columns"
   ]
  },
  {
   "cell_type": "code",
   "execution_count": 3,
   "metadata": {},
   "outputs": [],
   "source": [
    "df1 = df_con.drop(['Province/State','Long','Lat'],axis=1)\n",
    "df2 = df_d.drop(['Province/State','Long','Lat'],axis=1)\n",
    "df3 = df_r.drop(['Province/State','Long','Lat'],axis=1)"
   ]
  },
  {
   "cell_type": "markdown",
   "metadata": {},
   "source": [
    "## Swapping rows and columns to get the date as index column"
   ]
  },
  {
   "cell_type": "code",
   "execution_count": 4,
   "metadata": {},
   "outputs": [],
   "source": [
    "df_con_trans =df1.transpose()\n",
    "df_d_trans =df2.transpose()\n",
    "df_r_trans =df3.transpose()"
   ]
  },
  {
   "cell_type": "code",
   "execution_count": 12,
   "metadata": {},
   "outputs": [],
   "source": [
    "data1 = df_con_trans.loc[:,['Italy']]\n",
    "data2 = df_d_trans.loc[:,['Italy']]\n",
    "data3 = df_r_trans.loc[:,['Italy']]"
   ]
  },
  {
   "cell_type": "markdown",
   "metadata": {},
   "source": [
    "## Loc India from all the 3 datasets to make a new dataset with\n",
    "- India confirmed Case\n",
    "- India deaths\n",
    "- India recovered cases"
   ]
  },
  {
   "cell_type": "code",
   "execution_count": 13,
   "metadata": {},
   "outputs": [],
   "source": [
    "data = pd.concat([data1,data2,data3],axis=1)"
   ]
  },
  {
   "cell_type": "code",
   "execution_count": 14,
   "metadata": {},
   "outputs": [
    {
     "data": {
      "text/html": [
       "<div>\n",
       "<style scoped>\n",
       "    .dataframe tbody tr th:only-of-type {\n",
       "        vertical-align: middle;\n",
       "    }\n",
       "\n",
       "    .dataframe tbody tr th {\n",
       "        vertical-align: top;\n",
       "    }\n",
       "\n",
       "    .dataframe thead th {\n",
       "        text-align: right;\n",
       "    }\n",
       "</style>\n",
       "<table border=\"1\" class=\"dataframe\">\n",
       "  <thead>\n",
       "    <tr style=\"text-align: right;\">\n",
       "      <th>Country/Region</th>\n",
       "      <th>Italy</th>\n",
       "      <th>Italy</th>\n",
       "      <th>Italy</th>\n",
       "    </tr>\n",
       "  </thead>\n",
       "  <tbody>\n",
       "    <tr>\n",
       "      <th>1/22/20</th>\n",
       "      <td>0</td>\n",
       "      <td>0</td>\n",
       "      <td>0</td>\n",
       "    </tr>\n",
       "    <tr>\n",
       "      <th>1/23/20</th>\n",
       "      <td>0</td>\n",
       "      <td>0</td>\n",
       "      <td>0</td>\n",
       "    </tr>\n",
       "    <tr>\n",
       "      <th>1/24/20</th>\n",
       "      <td>0</td>\n",
       "      <td>0</td>\n",
       "      <td>0</td>\n",
       "    </tr>\n",
       "    <tr>\n",
       "      <th>1/25/20</th>\n",
       "      <td>0</td>\n",
       "      <td>0</td>\n",
       "      <td>0</td>\n",
       "    </tr>\n",
       "    <tr>\n",
       "      <th>1/26/20</th>\n",
       "      <td>0</td>\n",
       "      <td>0</td>\n",
       "      <td>0</td>\n",
       "    </tr>\n",
       "    <tr>\n",
       "      <th>...</th>\n",
       "      <td>...</td>\n",
       "      <td>...</td>\n",
       "      <td>...</td>\n",
       "    </tr>\n",
       "    <tr>\n",
       "      <th>9/17/20</th>\n",
       "      <td>293025</td>\n",
       "      <td>35658</td>\n",
       "      <td>215954</td>\n",
       "    </tr>\n",
       "    <tr>\n",
       "      <th>9/18/20</th>\n",
       "      <td>294932</td>\n",
       "      <td>35668</td>\n",
       "      <td>216807</td>\n",
       "    </tr>\n",
       "    <tr>\n",
       "      <th>9/19/20</th>\n",
       "      <td>296569</td>\n",
       "      <td>35692</td>\n",
       "      <td>217716</td>\n",
       "    </tr>\n",
       "    <tr>\n",
       "      <th>9/20/20</th>\n",
       "      <td>298156</td>\n",
       "      <td>35707</td>\n",
       "      <td>218351</td>\n",
       "    </tr>\n",
       "    <tr>\n",
       "      <th>9/21/20</th>\n",
       "      <td>299506</td>\n",
       "      <td>35724</td>\n",
       "      <td>218703</td>\n",
       "    </tr>\n",
       "  </tbody>\n",
       "</table>\n",
       "<p>244 rows × 3 columns</p>\n",
       "</div>"
      ],
      "text/plain": [
       "Country/Region   Italy  Italy   Italy\n",
       "1/22/20              0      0       0\n",
       "1/23/20              0      0       0\n",
       "1/24/20              0      0       0\n",
       "1/25/20              0      0       0\n",
       "1/26/20              0      0       0\n",
       "...                ...    ...     ...\n",
       "9/17/20         293025  35658  215954\n",
       "9/18/20         294932  35668  216807\n",
       "9/19/20         296569  35692  217716\n",
       "9/20/20         298156  35707  218351\n",
       "9/21/20         299506  35724  218703\n",
       "\n",
       "[244 rows x 3 columns]"
      ]
     },
     "execution_count": 14,
     "metadata": {},
     "output_type": "execute_result"
    }
   ],
   "source": [
    "data"
   ]
  },
  {
   "cell_type": "code",
   "execution_count": 15,
   "metadata": {},
   "outputs": [],
   "source": [
    "data.reset_index(inplace = True)"
   ]
  },
  {
   "cell_type": "code",
   "execution_count": 16,
   "metadata": {},
   "outputs": [
    {
     "data": {
      "text/html": [
       "<div>\n",
       "<style scoped>\n",
       "    .dataframe tbody tr th:only-of-type {\n",
       "        vertical-align: middle;\n",
       "    }\n",
       "\n",
       "    .dataframe tbody tr th {\n",
       "        vertical-align: top;\n",
       "    }\n",
       "\n",
       "    .dataframe thead th {\n",
       "        text-align: right;\n",
       "    }\n",
       "</style>\n",
       "<table border=\"1\" class=\"dataframe\">\n",
       "  <thead>\n",
       "    <tr style=\"text-align: right;\">\n",
       "      <th>Country/Region</th>\n",
       "      <th>index</th>\n",
       "      <th>Italy</th>\n",
       "      <th>Italy</th>\n",
       "      <th>Italy</th>\n",
       "    </tr>\n",
       "  </thead>\n",
       "  <tbody>\n",
       "    <tr>\n",
       "      <th>0</th>\n",
       "      <td>1/22/20</td>\n",
       "      <td>0</td>\n",
       "      <td>0</td>\n",
       "      <td>0</td>\n",
       "    </tr>\n",
       "    <tr>\n",
       "      <th>1</th>\n",
       "      <td>1/23/20</td>\n",
       "      <td>0</td>\n",
       "      <td>0</td>\n",
       "      <td>0</td>\n",
       "    </tr>\n",
       "    <tr>\n",
       "      <th>2</th>\n",
       "      <td>1/24/20</td>\n",
       "      <td>0</td>\n",
       "      <td>0</td>\n",
       "      <td>0</td>\n",
       "    </tr>\n",
       "    <tr>\n",
       "      <th>3</th>\n",
       "      <td>1/25/20</td>\n",
       "      <td>0</td>\n",
       "      <td>0</td>\n",
       "      <td>0</td>\n",
       "    </tr>\n",
       "    <tr>\n",
       "      <th>4</th>\n",
       "      <td>1/26/20</td>\n",
       "      <td>0</td>\n",
       "      <td>0</td>\n",
       "      <td>0</td>\n",
       "    </tr>\n",
       "    <tr>\n",
       "      <th>...</th>\n",
       "      <td>...</td>\n",
       "      <td>...</td>\n",
       "      <td>...</td>\n",
       "      <td>...</td>\n",
       "    </tr>\n",
       "    <tr>\n",
       "      <th>239</th>\n",
       "      <td>9/17/20</td>\n",
       "      <td>293025</td>\n",
       "      <td>35658</td>\n",
       "      <td>215954</td>\n",
       "    </tr>\n",
       "    <tr>\n",
       "      <th>240</th>\n",
       "      <td>9/18/20</td>\n",
       "      <td>294932</td>\n",
       "      <td>35668</td>\n",
       "      <td>216807</td>\n",
       "    </tr>\n",
       "    <tr>\n",
       "      <th>241</th>\n",
       "      <td>9/19/20</td>\n",
       "      <td>296569</td>\n",
       "      <td>35692</td>\n",
       "      <td>217716</td>\n",
       "    </tr>\n",
       "    <tr>\n",
       "      <th>242</th>\n",
       "      <td>9/20/20</td>\n",
       "      <td>298156</td>\n",
       "      <td>35707</td>\n",
       "      <td>218351</td>\n",
       "    </tr>\n",
       "    <tr>\n",
       "      <th>243</th>\n",
       "      <td>9/21/20</td>\n",
       "      <td>299506</td>\n",
       "      <td>35724</td>\n",
       "      <td>218703</td>\n",
       "    </tr>\n",
       "  </tbody>\n",
       "</table>\n",
       "<p>244 rows × 4 columns</p>\n",
       "</div>"
      ],
      "text/plain": [
       "Country/Region    index   Italy  Italy   Italy\n",
       "0               1/22/20       0      0       0\n",
       "1               1/23/20       0      0       0\n",
       "2               1/24/20       0      0       0\n",
       "3               1/25/20       0      0       0\n",
       "4               1/26/20       0      0       0\n",
       "..                  ...     ...    ...     ...\n",
       "239             9/17/20  293025  35658  215954\n",
       "240             9/18/20  294932  35668  216807\n",
       "241             9/19/20  296569  35692  217716\n",
       "242             9/20/20  298156  35707  218351\n",
       "243             9/21/20  299506  35724  218703\n",
       "\n",
       "[244 rows x 4 columns]"
      ]
     },
     "execution_count": 16,
     "metadata": {},
     "output_type": "execute_result"
    }
   ],
   "source": [
    "data"
   ]
  },
  {
   "cell_type": "markdown",
   "metadata": {},
   "source": [
    "## Renaming the columns\n",
    "## changing dates to datetime format\n",
    "## making the list of columns and dates"
   ]
  },
  {
   "cell_type": "code",
   "execution_count": 17,
   "metadata": {
    "scrolled": false
   },
   "outputs": [],
   "source": [
    "data.columns=['Date','Italy_conf','Italy_deaths','Italy_recov']"
   ]
  },
  {
   "cell_type": "code",
   "execution_count": 18,
   "metadata": {},
   "outputs": [],
   "source": [
    "cols = list(data)[1:4]"
   ]
  },
  {
   "cell_type": "code",
   "execution_count": 19,
   "metadata": {},
   "outputs": [],
   "source": [
    "training_dates = pd.to_datetime(data['Date'])"
   ]
  },
  {
   "cell_type": "code",
   "execution_count": 20,
   "metadata": {},
   "outputs": [],
   "source": [
    "training_dates = list(training_dates)"
   ]
  },
  {
   "cell_type": "code",
   "execution_count": 21,
   "metadata": {},
   "outputs": [
    {
     "data": {
      "text/plain": [
       "Timestamp('2020-09-21 00:00:00')"
      ]
     },
     "execution_count": 21,
     "metadata": {},
     "output_type": "execute_result"
    }
   ],
   "source": [
    "training_dates[-1]"
   ]
  },
  {
   "cell_type": "code",
   "execution_count": 22,
   "metadata": {},
   "outputs": [],
   "source": [
    "df_for_training = data[cols].astype(float)"
   ]
  },
  {
   "cell_type": "code",
   "execution_count": 23,
   "metadata": {},
   "outputs": [
    {
     "data": {
      "text/plain": [
       "244"
      ]
     },
     "execution_count": 23,
     "metadata": {},
     "output_type": "execute_result"
    }
   ],
   "source": [
    "len(df_for_training)"
   ]
  },
  {
   "cell_type": "markdown",
   "metadata": {},
   "source": [
    "## Scaling the data"
   ]
  },
  {
   "cell_type": "code",
   "execution_count": 24,
   "metadata": {},
   "outputs": [],
   "source": [
    "from sklearn.preprocessing import MinMaxScaler"
   ]
  },
  {
   "cell_type": "code",
   "execution_count": 25,
   "metadata": {},
   "outputs": [],
   "source": [
    "scaler = MinMaxScaler()\n",
    "df_for_training_scaled = scaler.fit_transform(df_for_training)"
   ]
  },
  {
   "cell_type": "markdown",
   "metadata": {},
   "source": [
    "## Seperating training data and testing data\n",
    "### n_future is 20 and n_past is 30\n",
    "- ie for datas from 1 to 30 , 31 to 50 will be the predicted\n",
    "- for datas from 2 to 31,   32 to 51 will be predicted\n",
    "- this will be carried on for the full dataset"
   ]
  },
  {
   "cell_type": "code",
   "execution_count": 26,
   "metadata": {},
   "outputs": [],
   "source": [
    "train_X = []\n",
    "train_Y = []"
   ]
  },
  {
   "cell_type": "code",
   "execution_count": 27,
   "metadata": {},
   "outputs": [],
   "source": [
    "n_future=20\n",
    "n_past = 30"
   ]
  },
  {
   "cell_type": "code",
   "execution_count": 28,
   "metadata": {},
   "outputs": [],
   "source": [
    "for i in range(n_past,len(df_for_training_scaled)-n_future+1):\n",
    "    train_X.append(df_for_training_scaled[i-n_past:i,0:df_for_training.shape[1]])\n",
    "    train_Y.append(df_for_training_scaled[i+n_future-1:i+n_future,0])"
   ]
  },
  {
   "cell_type": "code",
   "execution_count": 29,
   "metadata": {},
   "outputs": [],
   "source": [
    "train_X, train_Y = np.array(train_X),np.array(train_Y)"
   ]
  },
  {
   "cell_type": "code",
   "execution_count": 30,
   "metadata": {},
   "outputs": [
    {
     "name": "stdout",
     "output_type": "stream",
     "text": [
      "(195, 30, 3)\n",
      "(195, 1)\n"
     ]
    }
   ],
   "source": [
    "print(train_X.shape)\n",
    "print(train_Y.shape)"
   ]
  },
  {
   "cell_type": "markdown",
   "metadata": {},
   "source": [
    "# Applying the LSTM model \n",
    "- Activcation function relu\n",
    "- Dropout to avoid overfitting\n",
    "- optimizer 'adam'"
   ]
  },
  {
   "cell_type": "code",
   "execution_count": 31,
   "metadata": {},
   "outputs": [],
   "source": [
    "from keras.models import Sequential\n",
    "from keras.layers import LSTM\n",
    "from keras .layers import Dropout\n",
    "from keras.layers import Dense"
   ]
  },
  {
   "cell_type": "code",
   "execution_count": 32,
   "metadata": {
    "scrolled": true
   },
   "outputs": [],
   "source": [
    "\n",
    "model = Sequential()"
   ]
  },
  {
   "cell_type": "code",
   "execution_count": 33,
   "metadata": {},
   "outputs": [],
   "source": [
    "model.add(LSTM(64,activation='relu',input_shape=(train_X.shape[1],train_X.shape[2]),return_sequences=True))\n",
    "model.add(LSTM(32,activation='relu',return_sequences=False))\n",
    "model.add(Dropout(0.2))\n",
    "model.add(Dense(train_Y.shape[1]))"
   ]
  },
  {
   "cell_type": "code",
   "execution_count": 34,
   "metadata": {},
   "outputs": [
    {
     "name": "stdout",
     "output_type": "stream",
     "text": [
      "Model: \"sequential\"\n",
      "_________________________________________________________________\n",
      "Layer (type)                 Output Shape              Param #   \n",
      "=================================================================\n",
      "lstm (LSTM)                  (None, 30, 64)            17408     \n",
      "_________________________________________________________________\n",
      "lstm_1 (LSTM)                (None, 32)                12416     \n",
      "_________________________________________________________________\n",
      "dropout (Dropout)            (None, 32)                0         \n",
      "_________________________________________________________________\n",
      "dense (Dense)                (None, 1)                 33        \n",
      "=================================================================\n",
      "Total params: 29,857\n",
      "Trainable params: 29,857\n",
      "Non-trainable params: 0\n",
      "_________________________________________________________________\n"
     ]
    }
   ],
   "source": [
    "model.summary()"
   ]
  },
  {
   "cell_type": "code",
   "execution_count": 35,
   "metadata": {},
   "outputs": [
    {
     "name": "stdout",
     "output_type": "stream",
     "text": [
      "Model: \"sequential\"\n",
      "_________________________________________________________________\n",
      "Layer (type)                 Output Shape              Param #   \n",
      "=================================================================\n",
      "lstm (LSTM)                  (None, 30, 64)            17408     \n",
      "_________________________________________________________________\n",
      "lstm_1 (LSTM)                (None, 32)                12416     \n",
      "_________________________________________________________________\n",
      "dropout (Dropout)            (None, 32)                0         \n",
      "_________________________________________________________________\n",
      "dense (Dense)                (None, 1)                 33        \n",
      "=================================================================\n",
      "Total params: 29,857\n",
      "Trainable params: 29,857\n",
      "Non-trainable params: 0\n",
      "_________________________________________________________________\n"
     ]
    }
   ],
   "source": [
    "model.compile(optimizer='adam',loss='mse')\n",
    "model.summary()"
   ]
  },
  {
   "cell_type": "markdown",
   "metadata": {},
   "source": [
    "# Training the model with 50 epochs and validation split = 0.2"
   ]
  },
  {
   "cell_type": "code",
   "execution_count": 36,
   "metadata": {},
   "outputs": [
    {
     "name": "stdout",
     "output_type": "stream",
     "text": [
      "Epoch 1/50\n",
      "11/11 [==============================] - 4s 98ms/step - loss: 0.6410 - val_loss: 0.6887\n",
      "Epoch 2/50\n",
      "11/11 [==============================] - 0s 29ms/step - loss: 0.3536 - val_loss: 0.2179\n",
      "Epoch 3/50\n",
      "11/11 [==============================] - 0s 31ms/step - loss: 0.1284 - val_loss: 0.0044\n",
      "Epoch 4/50\n",
      "11/11 [==============================] - 0s 29ms/step - loss: 0.0536 - val_loss: 0.0021\n",
      "Epoch 5/50\n",
      "11/11 [==============================] - 0s 29ms/step - loss: 0.0424 - val_loss: 0.0152\n",
      "Epoch 6/50\n",
      "11/11 [==============================] - 0s 29ms/step - loss: 0.0322 - val_loss: 0.0084\n",
      "Epoch 7/50\n",
      "11/11 [==============================] - 0s 31ms/step - loss: 0.0320 - val_loss: 0.0129\n",
      "Epoch 8/50\n",
      "11/11 [==============================] - 0s 29ms/step - loss: 0.0303 - val_loss: 0.0081\n",
      "Epoch 9/50\n",
      "11/11 [==============================] - 0s 31ms/step - loss: 0.0290 - val_loss: 0.0030\n",
      "Epoch 10/50\n",
      "11/11 [==============================] - 0s 29ms/step - loss: 0.0251 - val_loss: 0.0079\n",
      "Epoch 11/50\n",
      "11/11 [==============================] - 0s 30ms/step - loss: 0.0229 - val_loss: 0.0065\n",
      "Epoch 12/50\n",
      "11/11 [==============================] - 0s 31ms/step - loss: 0.0227 - val_loss: 0.0069\n",
      "Epoch 13/50\n",
      "11/11 [==============================] - 0s 29ms/step - loss: 0.0241 - val_loss: 0.0015\n",
      "Epoch 14/50\n",
      "11/11 [==============================] - 0s 32ms/step - loss: 0.0190 - val_loss: 0.0038\n",
      "Epoch 15/50\n",
      "11/11 [==============================] - 0s 29ms/step - loss: 0.0186 - val_loss: 0.0039\n",
      "Epoch 16/50\n",
      "11/11 [==============================] - 0s 31ms/step - loss: 0.0115 - val_loss: 0.0029\n",
      "Epoch 17/50\n",
      "11/11 [==============================] - 0s 30ms/step - loss: 0.0193 - val_loss: 0.0028\n",
      "Epoch 18/50\n",
      "11/11 [==============================] - 0s 32ms/step - loss: 0.0178 - val_loss: 0.0092\n",
      "Epoch 19/50\n",
      "11/11 [==============================] - 0s 29ms/step - loss: 0.0144 - val_loss: 0.0067\n",
      "Epoch 20/50\n",
      "11/11 [==============================] - 0s 28ms/step - loss: 0.0157 - val_loss: 0.0040\n",
      "Epoch 21/50\n",
      "11/11 [==============================] - 0s 29ms/step - loss: 0.0149 - val_loss: 0.0145\n",
      "Epoch 22/50\n",
      "11/11 [==============================] - 0s 30ms/step - loss: 0.0146 - val_loss: 0.0105\n",
      "Epoch 23/50\n",
      "11/11 [==============================] - 0s 29ms/step - loss: 0.0152 - val_loss: 0.0060\n",
      "Epoch 24/50\n",
      "11/11 [==============================] - 0s 33ms/step - loss: 0.0126 - val_loss: 0.0083\n",
      "Epoch 25/50\n",
      "11/11 [==============================] - 0s 31ms/step - loss: 0.0161 - val_loss: 0.0234\n",
      "Epoch 26/50\n",
      "11/11 [==============================] - 0s 29ms/step - loss: 0.0209 - val_loss: 0.0016\n",
      "Epoch 27/50\n",
      "11/11 [==============================] - 0s 30ms/step - loss: 0.0136 - val_loss: 0.0047\n",
      "Epoch 28/50\n",
      "11/11 [==============================] - 0s 34ms/step - loss: 0.0182 - val_loss: 0.0186\n",
      "Epoch 29/50\n",
      "11/11 [==============================] - 0s 34ms/step - loss: 0.0128 - val_loss: 0.0031\n",
      "Epoch 30/50\n",
      "11/11 [==============================] - 0s 36ms/step - loss: 0.0162 - val_loss: 0.0153\n",
      "Epoch 31/50\n",
      "11/11 [==============================] - 0s 34ms/step - loss: 0.0112 - val_loss: 0.0166\n",
      "Epoch 32/50\n",
      "11/11 [==============================] - 0s 35ms/step - loss: 0.0146 - val_loss: 0.0192\n",
      "Epoch 33/50\n",
      "11/11 [==============================] - 0s 33ms/step - loss: 0.0167 - val_loss: 0.0087\n",
      "Epoch 34/50\n",
      "11/11 [==============================] - 0s 35ms/step - loss: 0.0137 - val_loss: 0.0083\n",
      "Epoch 35/50\n",
      "11/11 [==============================] - 0s 35ms/step - loss: 0.0106 - val_loss: 0.0110\n",
      "Epoch 36/50\n",
      "11/11 [==============================] - ETA: 0s - loss: 0.014 - 0s 36ms/step - loss: 0.0146 - val_loss: 0.0128\n",
      "Epoch 37/50\n",
      "11/11 [==============================] - 0s 29ms/step - loss: 0.0127 - val_loss: 0.0103\n",
      "Epoch 38/50\n",
      "11/11 [==============================] - 0s 32ms/step - loss: 0.0111 - val_loss: 0.0057\n",
      "Epoch 39/50\n",
      "11/11 [==============================] - 0s 30ms/step - loss: 0.0144 - val_loss: 0.0158\n",
      "Epoch 40/50\n",
      "11/11 [==============================] - 0s 31ms/step - loss: 0.0155 - val_loss: 0.0021\n",
      "Epoch 41/50\n",
      "11/11 [==============================] - 0s 32ms/step - loss: 0.0137 - val_loss: 0.0111\n",
      "Epoch 42/50\n",
      "11/11 [==============================] - 0s 31ms/step - loss: 0.0149 - val_loss: 0.0199\n",
      "Epoch 43/50\n",
      "11/11 [==============================] - 0s 32ms/step - loss: 0.0143 - val_loss: 0.0055\n",
      "Epoch 44/50\n",
      "11/11 [==============================] - 0s 31ms/step - loss: 0.0122 - val_loss: 0.0123\n",
      "Epoch 45/50\n",
      "11/11 [==============================] - 0s 31ms/step - loss: 0.0144 - val_loss: 0.0107\n",
      "Epoch 46/50\n",
      "11/11 [==============================] - 0s 31ms/step - loss: 0.0130 - val_loss: 0.0016\n",
      "Epoch 47/50\n",
      "11/11 [==============================] - 0s 33ms/step - loss: 0.0145 - val_loss: 0.0144\n",
      "Epoch 48/50\n",
      "11/11 [==============================] - 0s 39ms/step - loss: 0.0143 - val_loss: 0.0087\n",
      "Epoch 49/50\n",
      "11/11 [==============================] - 0s 32ms/step - loss: 0.0170 - val_loss: 0.0029\n",
      "Epoch 50/50\n",
      "11/11 [==============================] - 0s 44ms/step - loss: 0.0115 - val_loss: 0.0146\n"
     ]
    }
   ],
   "source": [
    "history = model.fit(train_X,train_Y,epochs=50,\n",
    "                             validation_split=0.2,\n",
    "                             batch_size=15,\n",
    "                    verbose=1)"
   ]
  },
  {
   "cell_type": "markdown",
   "metadata": {},
   "source": [
    "## Forecasting for next 90 days"
   ]
  },
  {
   "cell_type": "code",
   "execution_count": 54,
   "metadata": {},
   "outputs": [],
   "source": [
    "n_future=90"
   ]
  },
  {
   "cell_type": "code",
   "execution_count": 95,
   "metadata": {},
   "outputs": [],
   "source": [
    "forecast_period_dates = pd.date_range(list(training_dates)[-10],periods=n_future,freq='1d').tolist()"
   ]
  },
  {
   "cell_type": "code",
   "execution_count": 96,
   "metadata": {},
   "outputs": [
    {
     "data": {
      "text/plain": [
       "[Timestamp('2020-09-12 00:00:00', freq='D'),\n",
       " Timestamp('2020-09-13 00:00:00', freq='D'),\n",
       " Timestamp('2020-09-14 00:00:00', freq='D'),\n",
       " Timestamp('2020-09-15 00:00:00', freq='D'),\n",
       " Timestamp('2020-09-16 00:00:00', freq='D'),\n",
       " Timestamp('2020-09-17 00:00:00', freq='D'),\n",
       " Timestamp('2020-09-18 00:00:00', freq='D'),\n",
       " Timestamp('2020-09-19 00:00:00', freq='D'),\n",
       " Timestamp('2020-09-20 00:00:00', freq='D'),\n",
       " Timestamp('2020-09-21 00:00:00', freq='D'),\n",
       " Timestamp('2020-09-22 00:00:00', freq='D'),\n",
       " Timestamp('2020-09-23 00:00:00', freq='D'),\n",
       " Timestamp('2020-09-24 00:00:00', freq='D'),\n",
       " Timestamp('2020-09-25 00:00:00', freq='D'),\n",
       " Timestamp('2020-09-26 00:00:00', freq='D'),\n",
       " Timestamp('2020-09-27 00:00:00', freq='D'),\n",
       " Timestamp('2020-09-28 00:00:00', freq='D'),\n",
       " Timestamp('2020-09-29 00:00:00', freq='D'),\n",
       " Timestamp('2020-09-30 00:00:00', freq='D'),\n",
       " Timestamp('2020-10-01 00:00:00', freq='D'),\n",
       " Timestamp('2020-10-02 00:00:00', freq='D'),\n",
       " Timestamp('2020-10-03 00:00:00', freq='D'),\n",
       " Timestamp('2020-10-04 00:00:00', freq='D'),\n",
       " Timestamp('2020-10-05 00:00:00', freq='D'),\n",
       " Timestamp('2020-10-06 00:00:00', freq='D'),\n",
       " Timestamp('2020-10-07 00:00:00', freq='D'),\n",
       " Timestamp('2020-10-08 00:00:00', freq='D'),\n",
       " Timestamp('2020-10-09 00:00:00', freq='D'),\n",
       " Timestamp('2020-10-10 00:00:00', freq='D'),\n",
       " Timestamp('2020-10-11 00:00:00', freq='D'),\n",
       " Timestamp('2020-10-12 00:00:00', freq='D'),\n",
       " Timestamp('2020-10-13 00:00:00', freq='D'),\n",
       " Timestamp('2020-10-14 00:00:00', freq='D'),\n",
       " Timestamp('2020-10-15 00:00:00', freq='D'),\n",
       " Timestamp('2020-10-16 00:00:00', freq='D'),\n",
       " Timestamp('2020-10-17 00:00:00', freq='D'),\n",
       " Timestamp('2020-10-18 00:00:00', freq='D'),\n",
       " Timestamp('2020-10-19 00:00:00', freq='D'),\n",
       " Timestamp('2020-10-20 00:00:00', freq='D'),\n",
       " Timestamp('2020-10-21 00:00:00', freq='D'),\n",
       " Timestamp('2020-10-22 00:00:00', freq='D'),\n",
       " Timestamp('2020-10-23 00:00:00', freq='D'),\n",
       " Timestamp('2020-10-24 00:00:00', freq='D'),\n",
       " Timestamp('2020-10-25 00:00:00', freq='D'),\n",
       " Timestamp('2020-10-26 00:00:00', freq='D'),\n",
       " Timestamp('2020-10-27 00:00:00', freq='D'),\n",
       " Timestamp('2020-10-28 00:00:00', freq='D'),\n",
       " Timestamp('2020-10-29 00:00:00', freq='D'),\n",
       " Timestamp('2020-10-30 00:00:00', freq='D'),\n",
       " Timestamp('2020-10-31 00:00:00', freq='D'),\n",
       " Timestamp('2020-11-01 00:00:00', freq='D'),\n",
       " Timestamp('2020-11-02 00:00:00', freq='D'),\n",
       " Timestamp('2020-11-03 00:00:00', freq='D'),\n",
       " Timestamp('2020-11-04 00:00:00', freq='D'),\n",
       " Timestamp('2020-11-05 00:00:00', freq='D'),\n",
       " Timestamp('2020-11-06 00:00:00', freq='D'),\n",
       " Timestamp('2020-11-07 00:00:00', freq='D'),\n",
       " Timestamp('2020-11-08 00:00:00', freq='D'),\n",
       " Timestamp('2020-11-09 00:00:00', freq='D'),\n",
       " Timestamp('2020-11-10 00:00:00', freq='D'),\n",
       " Timestamp('2020-11-11 00:00:00', freq='D'),\n",
       " Timestamp('2020-11-12 00:00:00', freq='D'),\n",
       " Timestamp('2020-11-13 00:00:00', freq='D'),\n",
       " Timestamp('2020-11-14 00:00:00', freq='D'),\n",
       " Timestamp('2020-11-15 00:00:00', freq='D'),\n",
       " Timestamp('2020-11-16 00:00:00', freq='D'),\n",
       " Timestamp('2020-11-17 00:00:00', freq='D'),\n",
       " Timestamp('2020-11-18 00:00:00', freq='D'),\n",
       " Timestamp('2020-11-19 00:00:00', freq='D'),\n",
       " Timestamp('2020-11-20 00:00:00', freq='D'),\n",
       " Timestamp('2020-11-21 00:00:00', freq='D'),\n",
       " Timestamp('2020-11-22 00:00:00', freq='D'),\n",
       " Timestamp('2020-11-23 00:00:00', freq='D'),\n",
       " Timestamp('2020-11-24 00:00:00', freq='D'),\n",
       " Timestamp('2020-11-25 00:00:00', freq='D'),\n",
       " Timestamp('2020-11-26 00:00:00', freq='D'),\n",
       " Timestamp('2020-11-27 00:00:00', freq='D'),\n",
       " Timestamp('2020-11-28 00:00:00', freq='D'),\n",
       " Timestamp('2020-11-29 00:00:00', freq='D'),\n",
       " Timestamp('2020-11-30 00:00:00', freq='D'),\n",
       " Timestamp('2020-12-01 00:00:00', freq='D'),\n",
       " Timestamp('2020-12-02 00:00:00', freq='D'),\n",
       " Timestamp('2020-12-03 00:00:00', freq='D'),\n",
       " Timestamp('2020-12-04 00:00:00', freq='D'),\n",
       " Timestamp('2020-12-05 00:00:00', freq='D'),\n",
       " Timestamp('2020-12-06 00:00:00', freq='D'),\n",
       " Timestamp('2020-12-07 00:00:00', freq='D'),\n",
       " Timestamp('2020-12-08 00:00:00', freq='D'),\n",
       " Timestamp('2020-12-09 00:00:00', freq='D'),\n",
       " Timestamp('2020-12-10 00:00:00', freq='D')]"
      ]
     },
     "execution_count": 96,
     "metadata": {},
     "output_type": "execute_result"
    }
   ],
   "source": [
    "forecast_period_dates"
   ]
  },
  {
   "cell_type": "code",
   "execution_count": 97,
   "metadata": {},
   "outputs": [],
   "source": [
    "forecast = model.predict(train_X[-n_future:])"
   ]
  },
  {
   "cell_type": "code",
   "execution_count": 98,
   "metadata": {},
   "outputs": [
    {
     "data": {
      "text/plain": [
       "array([[0.7468041 ],\n",
       "       [0.74816644],\n",
       "       [0.7495283 ],\n",
       "       [0.75086844],\n",
       "       [0.75217915],\n",
       "       [0.7534864 ],\n",
       "       [0.7547871 ],\n",
       "       [0.75609434],\n",
       "       [0.7573916 ],\n",
       "       [0.75869   ],\n",
       "       [0.75998616],\n",
       "       [0.7612599 ],\n",
       "       [0.7625077 ],\n",
       "       [0.763729  ],\n",
       "       [0.7649312 ],\n",
       "       [0.76610446],\n",
       "       [0.7672415 ],\n",
       "       [0.7683321 ],\n",
       "       [0.76937056],\n",
       "       [0.7703575 ],\n",
       "       [0.7713139 ],\n",
       "       [0.7722428 ],\n",
       "       [0.77314603],\n",
       "       [0.77402055],\n",
       "       [0.77486086],\n",
       "       [0.77565646],\n",
       "       [0.7764183 ],\n",
       "       [0.7771493 ],\n",
       "       [0.7778537 ],\n",
       "       [0.77853143],\n",
       "       [0.77918637],\n",
       "       [0.779812  ],\n",
       "       [0.78040624],\n",
       "       [0.78097653],\n",
       "       [0.7815335 ],\n",
       "       [0.78207743],\n",
       "       [0.7826103 ],\n",
       "       [0.78312767],\n",
       "       [0.78363144],\n",
       "       [0.78411794],\n",
       "       [0.7845875 ],\n",
       "       [0.7850472 ],\n",
       "       [0.78549945],\n",
       "       [0.78594494],\n",
       "       [0.78638697],\n",
       "       [0.7868211 ],\n",
       "       [0.7872453 ],\n",
       "       [0.7876587 ],\n",
       "       [0.78806615],\n",
       "       [0.78847146],\n",
       "       [0.78887427],\n",
       "       [0.7892741 ],\n",
       "       [0.7896687 ],\n",
       "       [0.7900536 ],\n",
       "       [0.7904303 ],\n",
       "       [0.7908046 ],\n",
       "       [0.7911893 ],\n",
       "       [0.79158676],\n",
       "       [0.7919924 ],\n",
       "       [0.79240143],\n",
       "       [0.79280674],\n",
       "       [0.7932055 ],\n",
       "       [0.7936057 ],\n",
       "       [0.79401314],\n",
       "       [0.79443705],\n",
       "       [0.7948743 ],\n",
       "       [0.7953247 ],\n",
       "       [0.7957773 ],\n",
       "       [0.7962346 ],\n",
       "       [0.79670155],\n",
       "       [0.79718184],\n",
       "       [0.79768014],\n",
       "       [0.79823816],\n",
       "       [0.7988343 ],\n",
       "       [0.79944575],\n",
       "       [0.8000623 ],\n",
       "       [0.80069137],\n",
       "       [0.8013414 ],\n",
       "       [0.80202305],\n",
       "       [0.80274403],\n",
       "       [0.8035145 ],\n",
       "       [0.80432475],\n",
       "       [0.8051671 ],\n",
       "       [0.8060607 ],\n",
       "       [0.80701053],\n",
       "       [0.8080226 ],\n",
       "       [0.8091067 ],\n",
       "       [0.8102529 ],\n",
       "       [0.8114196 ],\n",
       "       [0.81259406]], dtype=float32)"
      ]
     },
     "execution_count": 98,
     "metadata": {},
     "output_type": "execute_result"
    }
   ],
   "source": [
    "forecast"
   ]
  },
  {
   "cell_type": "markdown",
   "metadata": {},
   "source": [
    "## original data is of 3 dimension,so making forecast data same dimension"
   ]
  },
  {
   "cell_type": "code",
   "execution_count": 99,
   "metadata": {},
   "outputs": [],
   "source": [
    "forecast_copies = np.repeat(forecast,df_for_training.shape[1],axis=-1)"
   ]
  },
  {
   "cell_type": "code",
   "execution_count": 100,
   "metadata": {},
   "outputs": [
    {
     "data": {
      "text/plain": [
       "array([[0.7468041 , 0.7468041 , 0.7468041 ],\n",
       "       [0.74816644, 0.74816644, 0.74816644],\n",
       "       [0.7495283 , 0.7495283 , 0.7495283 ],\n",
       "       [0.75086844, 0.75086844, 0.75086844],\n",
       "       [0.75217915, 0.75217915, 0.75217915],\n",
       "       [0.7534864 , 0.7534864 , 0.7534864 ],\n",
       "       [0.7547871 , 0.7547871 , 0.7547871 ],\n",
       "       [0.75609434, 0.75609434, 0.75609434],\n",
       "       [0.7573916 , 0.7573916 , 0.7573916 ],\n",
       "       [0.75869   , 0.75869   , 0.75869   ],\n",
       "       [0.75998616, 0.75998616, 0.75998616],\n",
       "       [0.7612599 , 0.7612599 , 0.7612599 ],\n",
       "       [0.7625077 , 0.7625077 , 0.7625077 ],\n",
       "       [0.763729  , 0.763729  , 0.763729  ],\n",
       "       [0.7649312 , 0.7649312 , 0.7649312 ],\n",
       "       [0.76610446, 0.76610446, 0.76610446],\n",
       "       [0.7672415 , 0.7672415 , 0.7672415 ],\n",
       "       [0.7683321 , 0.7683321 , 0.7683321 ],\n",
       "       [0.76937056, 0.76937056, 0.76937056],\n",
       "       [0.7703575 , 0.7703575 , 0.7703575 ],\n",
       "       [0.7713139 , 0.7713139 , 0.7713139 ],\n",
       "       [0.7722428 , 0.7722428 , 0.7722428 ],\n",
       "       [0.77314603, 0.77314603, 0.77314603],\n",
       "       [0.77402055, 0.77402055, 0.77402055],\n",
       "       [0.77486086, 0.77486086, 0.77486086],\n",
       "       [0.77565646, 0.77565646, 0.77565646],\n",
       "       [0.7764183 , 0.7764183 , 0.7764183 ],\n",
       "       [0.7771493 , 0.7771493 , 0.7771493 ],\n",
       "       [0.7778537 , 0.7778537 , 0.7778537 ],\n",
       "       [0.77853143, 0.77853143, 0.77853143],\n",
       "       [0.77918637, 0.77918637, 0.77918637],\n",
       "       [0.779812  , 0.779812  , 0.779812  ],\n",
       "       [0.78040624, 0.78040624, 0.78040624],\n",
       "       [0.78097653, 0.78097653, 0.78097653],\n",
       "       [0.7815335 , 0.7815335 , 0.7815335 ],\n",
       "       [0.78207743, 0.78207743, 0.78207743],\n",
       "       [0.7826103 , 0.7826103 , 0.7826103 ],\n",
       "       [0.78312767, 0.78312767, 0.78312767],\n",
       "       [0.78363144, 0.78363144, 0.78363144],\n",
       "       [0.78411794, 0.78411794, 0.78411794],\n",
       "       [0.7845875 , 0.7845875 , 0.7845875 ],\n",
       "       [0.7850472 , 0.7850472 , 0.7850472 ],\n",
       "       [0.78549945, 0.78549945, 0.78549945],\n",
       "       [0.78594494, 0.78594494, 0.78594494],\n",
       "       [0.78638697, 0.78638697, 0.78638697],\n",
       "       [0.7868211 , 0.7868211 , 0.7868211 ],\n",
       "       [0.7872453 , 0.7872453 , 0.7872453 ],\n",
       "       [0.7876587 , 0.7876587 , 0.7876587 ],\n",
       "       [0.78806615, 0.78806615, 0.78806615],\n",
       "       [0.78847146, 0.78847146, 0.78847146],\n",
       "       [0.78887427, 0.78887427, 0.78887427],\n",
       "       [0.7892741 , 0.7892741 , 0.7892741 ],\n",
       "       [0.7896687 , 0.7896687 , 0.7896687 ],\n",
       "       [0.7900536 , 0.7900536 , 0.7900536 ],\n",
       "       [0.7904303 , 0.7904303 , 0.7904303 ],\n",
       "       [0.7908046 , 0.7908046 , 0.7908046 ],\n",
       "       [0.7911893 , 0.7911893 , 0.7911893 ],\n",
       "       [0.79158676, 0.79158676, 0.79158676],\n",
       "       [0.7919924 , 0.7919924 , 0.7919924 ],\n",
       "       [0.79240143, 0.79240143, 0.79240143],\n",
       "       [0.79280674, 0.79280674, 0.79280674],\n",
       "       [0.7932055 , 0.7932055 , 0.7932055 ],\n",
       "       [0.7936057 , 0.7936057 , 0.7936057 ],\n",
       "       [0.79401314, 0.79401314, 0.79401314],\n",
       "       [0.79443705, 0.79443705, 0.79443705],\n",
       "       [0.7948743 , 0.7948743 , 0.7948743 ],\n",
       "       [0.7953247 , 0.7953247 , 0.7953247 ],\n",
       "       [0.7957773 , 0.7957773 , 0.7957773 ],\n",
       "       [0.7962346 , 0.7962346 , 0.7962346 ],\n",
       "       [0.79670155, 0.79670155, 0.79670155],\n",
       "       [0.79718184, 0.79718184, 0.79718184],\n",
       "       [0.79768014, 0.79768014, 0.79768014],\n",
       "       [0.79823816, 0.79823816, 0.79823816],\n",
       "       [0.7988343 , 0.7988343 , 0.7988343 ],\n",
       "       [0.79944575, 0.79944575, 0.79944575],\n",
       "       [0.8000623 , 0.8000623 , 0.8000623 ],\n",
       "       [0.80069137, 0.80069137, 0.80069137],\n",
       "       [0.8013414 , 0.8013414 , 0.8013414 ],\n",
       "       [0.80202305, 0.80202305, 0.80202305],\n",
       "       [0.80274403, 0.80274403, 0.80274403],\n",
       "       [0.8035145 , 0.8035145 , 0.8035145 ],\n",
       "       [0.80432475, 0.80432475, 0.80432475],\n",
       "       [0.8051671 , 0.8051671 , 0.8051671 ],\n",
       "       [0.8060607 , 0.8060607 , 0.8060607 ],\n",
       "       [0.80701053, 0.80701053, 0.80701053],\n",
       "       [0.8080226 , 0.8080226 , 0.8080226 ],\n",
       "       [0.8091067 , 0.8091067 , 0.8091067 ],\n",
       "       [0.8102529 , 0.8102529 , 0.8102529 ],\n",
       "       [0.8114196 , 0.8114196 , 0.8114196 ],\n",
       "       [0.81259406, 0.81259406, 0.81259406]], dtype=float32)"
      ]
     },
     "execution_count": 100,
     "metadata": {},
     "output_type": "execute_result"
    }
   ],
   "source": [
    "forecast_copies\n"
   ]
  },
  {
   "cell_type": "markdown",
   "metadata": {},
   "source": [
    "## inversing the scale"
   ]
  },
  {
   "cell_type": "code",
   "execution_count": 101,
   "metadata": {},
   "outputs": [],
   "source": [
    "y_pred_future = scaler.inverse_transform(forecast_copies)[:,0]"
   ]
  },
  {
   "cell_type": "code",
   "execution_count": 102,
   "metadata": {},
   "outputs": [],
   "source": [
    "forecast_dates = []"
   ]
  },
  {
   "cell_type": "markdown",
   "metadata": {},
   "source": [
    "## adding the days to predict"
   ]
  },
  {
   "cell_type": "code",
   "execution_count": 103,
   "metadata": {},
   "outputs": [],
   "source": [
    "for time_i in forecast_period_dates:\n",
    "    forecast_dates.append(time_i.date())"
   ]
  },
  {
   "cell_type": "code",
   "execution_count": 104,
   "metadata": {},
   "outputs": [],
   "source": [
    "df_forecast = pd.DataFrame({'Date':np.array(forecast_dates),'Italy_conf':y_pred_future})"
   ]
  },
  {
   "cell_type": "code",
   "execution_count": 105,
   "metadata": {},
   "outputs": [],
   "source": [
    "df_forecast['Date'] = pd.to_datetime(df_forecast['Date'])"
   ]
  },
  {
   "cell_type": "code",
   "execution_count": 106,
   "metadata": {
    "scrolled": true
   },
   "outputs": [
    {
     "name": "stderr",
     "output_type": "stream",
     "text": [
      "<ipython-input-106-97dcfd4cc311>:2: SettingWithCopyWarning: \n",
      "A value is trying to be set on a copy of a slice from a DataFrame.\n",
      "Try using .loc[row_indexer,col_indexer] = value instead\n",
      "\n",
      "See the caveats in the documentation: https://pandas.pydata.org/pandas-docs/stable/user_guide/indexing.html#returning-a-view-versus-a-copy\n",
      "  original['Date'] = pd.to_datetime(original['Date'])\n"
     ]
    }
   ],
   "source": [
    "original =data[['Date','Italy_conf']]\n",
    "original['Date'] = pd.to_datetime(original['Date'])\n",
    "original = original.loc[original['Date']>='2020-03-22']"
   ]
  },
  {
   "cell_type": "code",
   "execution_count": 107,
   "metadata": {
    "scrolled": true
   },
   "outputs": [
    {
     "data": {
      "text/plain": [
       "[<matplotlib.lines.Line2D at 0x1834fdc9eb0>]"
      ]
     },
     "execution_count": 107,
     "metadata": {},
     "output_type": "execute_result"
    },
    {
     "data": {
      "image/png": "[encoded data removed]",
      "text/plain": [
       "<Figure size 1080x360 with 1 Axes>"
      ]
     },
     "metadata": {
      "needs_background": "light"
     },
     "output_type": "display_data"
    }
   ],
   "source": [
    "from pylab import rcParams\n",
    "rcParams['figure.figsize']=15,5\n",
    "plt.plot(original['Date'],original['Italy_conf'])\n",
    "plt.plot(df_forecast['Date'],df_forecast['Italy_conf'])\n"
   ]
  },
  {
   "cell_type": "markdown",
   "metadata": {},
   "source": [
    "## Blue line represents the original data \n",
    "## orange line forecasting for further 90 days"
   ]
  },
  {
   "cell_type": "code",
   "execution_count": null,
   "metadata": {},
   "outputs": [],
   "source": []
  }
 ],
 "metadata": {
  "kernelspec": {
   "display_name": "Python 3",
   "language": "python",
   "name": "python3"
  },
  "language_info": {
   "codemirror_mode": {
    "name": "ipython",
    "version": 3
   },
   "file_extension": ".py",
   "mimetype": "text/x-python",
   "name": "python",
   "nbconvert_exporter": "python",
   "pygments_lexer": "ipython3",
   "version": "3.8.5"
  }
 },
 "nbformat": 4,
 "nbformat_minor": 4
}
